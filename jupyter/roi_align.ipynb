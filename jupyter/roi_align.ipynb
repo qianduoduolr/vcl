{
 "cells": [
  {
   "cell_type": "code",
   "execution_count": 4,
   "metadata": {},
   "outputs": [
    {
     "name": "stdout",
     "output_type": "stream",
     "text": [
      "image:  tensor([[[[10., 11., 12.],\n",
      "          [13., 14., 15.],\n",
      "          [16., 17., 18.]]],\n",
      "\n",
      "\n",
      "        [[[ 0.,  1.,  2.],\n",
      "          [ 3.,  4.,  5.],\n",
      "          [ 6.,  7.,  8.]]]])\n",
      "crops: tensor([[[[ 0.0000,  0.0000,  0.0000,  0.0000],\n",
      "          [11.3750, 11.6250, 11.8750, 12.1250],\n",
      "          [12.8750, 13.1250, 13.3750, 13.6250],\n",
      "          [14.3750, 14.6250, 14.8750, 15.1250]]],\n",
      "\n",
      "\n",
      "        [[[ 3.3750,  3.7500,  4.1250,  4.5000],\n",
      "          [ 3.7500,  4.1250,  4.5000,  4.8750],\n",
      "          [ 4.1250,  4.5000,  4.8750,  5.2500],\n",
      "          [ 4.5000,  4.8750,  5.2500,  5.6250]]]])\n"
     ]
    }
   ],
   "source": [
    "import torch\n",
    "from roi_align import RoIAlign      # RoIAlign module\n",
    "from roi_align import CropAndResize # crop_and_resize module\n",
    "\n",
    "# input feature maps (suppose that we have batch_size==2)\n",
    "image = torch.arange(0., 9).view(1, 1, 3, 3).repeat(2, 1, 1, 1)\n",
    "image[0] += 10\n",
    "print('image: ', image)\n",
    "\n",
    "\n",
    "# for example, we have two bboxes with coords xyxy (first with batch_id=0, second with batch_id=1).\n",
    "boxes = torch.Tensor([[1, 0, 2, 2],\n",
    "                     [0.5, 1.5, 2, 2]])\n",
    "\n",
    "box_index = torch.tensor([0, 1], dtype=torch.int) # index of bbox in batch\n",
    "\n",
    "# RoIAlign layer with crop sizes:\n",
    "crop_height = 4\n",
    "crop_width = 4\n",
    "roi_align = RoIAlign(crop_height, crop_width)\n",
    "\n",
    "# make crops:\n",
    "crops = roi_align(image, boxes, box_index)\n",
    "\n",
    "print('crops:', crops)"
   ]
  }
 ],
 "metadata": {
  "interpreter": {
   "hash": "6f8e44a6ef544108172ff7c3d1cb2d54c99af7e07cfc4748358316ff08241482"
  },
  "kernelspec": {
   "display_name": "Python 3.8.8 64-bit ('base': conda)",
   "language": "python",
   "name": "python3"
  },
  "language_info": {
   "codemirror_mode": {
    "name": "ipython",
    "version": 3
   },
   "file_extension": ".py",
   "mimetype": "text/x-python",
   "name": "python",
   "nbconvert_exporter": "python",
   "pygments_lexer": "ipython3",
   "version": "3.8.8"
  },
  "orig_nbformat": 4
 },
 "nbformat": 4,
 "nbformat_minor": 2
}

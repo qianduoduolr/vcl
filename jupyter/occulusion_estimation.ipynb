{
 "cells": [
  {
   "cell_type": "code",
   "execution_count": 46,
   "metadata": {},
   "outputs": [
    {
     "name": "stdout",
     "output_type": "stream",
     "text": [
      "load checkpoint from local path: /home/lr/project/mmflow/checkpoints/raft_8x2_100k_mixed_368x768.pth\n"
     ]
    },
    {
     "data": {
      "text/plain": [
       "(<AxesSubplot:>, <matplotlib.image.AxesImage at 0x7fd40e2e77f0>)"
      ]
     },
     "execution_count": 46,
     "metadata": {},
     "output_type": "execute_result"
    },
    {
     "data": {
      "image/png": "[encoded data removed]",
      "text/plain": [
       "<Figure size 432x288 with 2 Axes>"
      ]
     },
     "metadata": {
      "needs_background": "light"
     },
     "output_type": "display_data"
    }
   ],
   "source": [
    "from mmflow.apis import init_model, inference_model\n",
    "from mmflow.datasets import visualize_flow, write_flow\n",
    "from mmflow.models.utils import occlusion_estimation\n",
    "import mmcv\n",
    "import torch\n",
    "import numpy as np\n",
    "import matplotlib.pyplot as plt\n",
    "%matplotlib inline\n",
    "\n",
    "# Specify the path to model config and checkpoint file\n",
    "config_file = '/home/lr/project/mmflow/configs/raft/raft_8x2_100k_mixed_368x768.py'\n",
    "checkpoint_file = '/home/lr/project/mmflow/checkpoints/raft_8x2_100k_mixed_368x768.pth'\n",
    "\n",
    "# build the model from a config file and a checkpoint file\n",
    "model = init_model(config_file, checkpoint_file, device='cuda:0')\n",
    "\n",
    "# test image pair, and save the results\n",
    "img1='/home/lr/dataset/YouTube-VOS/2018/train_all_frames/JPEGImages/1acd0f993b/00120.jpg'\n",
    "img2='/home/lr/dataset/YouTube-VOS/2018/train_all_frames/JPEGImages/1acd0f993b/00123.jpg'\n",
    "\n",
    "img_1 = mmcv.imread(img1)\n",
    "img_2 = mmcv.imread(img2)\n",
    "\n",
    "img1 = mmcv.imrescale(img_1, 0.5)\n",
    "img2 = mmcv.imrescale(img_2, 0.5) \n",
    "f1 = torch.from_numpy(inference_model(model, img1, img2)).permute(2,0,1)\n",
    "w1 = torch.from_numpy(inference_model(model, img2, img1)).permute(2,0,1)\n",
    "result = occlusion_estimation(f1[None], w1[None])['occ_fw']\n",
    "result = (1 - np.array(result)[0,0]) * 255\n",
    "mmcv.imwrite(img1, 'img1.jpg')\n",
    "mmcv.imwrite(img2, 'img2.jpg')\n",
    "mmcv.imwrite(result, 'occ1.jpg')\n",
    "\n",
    "\n",
    "\n",
    "img1 = mmcv.imrescale(img_1, 0.25)\n",
    "img2 = mmcv.imrescale(img_2, 0.25) \n",
    "f1 = torch.from_numpy(inference_model(model, img1, img2)).permute(2,0,1)\n",
    "w1 = torch.from_numpy(inference_model(model, img2, img1)).permute(2,0,1)\n",
    "result2 = occlusion_estimation(f1[None], w1[None])['occ_fw']\n",
    "result2 = (1 - np.array(result2)[0,0]) * 255\n",
    "mmcv.imwrite(img1, 'img1_.jpg')\n",
    "mmcv.imwrite(img2, 'img2_.jpg')\n",
    "mmcv.imwrite(result2, 'occ2.jpg')\n",
    "\n",
    "\n",
    "plt.figure()\n",
    "plt.subplot(1,2,1), plt.imshow(result)\n",
    "plt.subplot(1,2,2), plt.imshow(result2)\n",
    "\n",
    "# mmcv.imwrite(result, 'occ1.jpg')\n",
    "# mmcv.imwrite(result2, 'occ2.jpg')\n",
    "\n",
    "\n",
    "\n",
    "\n",
    " "
   ]
  }
 ],
 "metadata": {
  "interpreter": {
   "hash": "6f8e44a6ef544108172ff7c3d1cb2d54c99af7e07cfc4748358316ff08241482"
  },
  "kernelspec": {
   "display_name": "Python 3.8.8 ('base')",
   "language": "python",
   "name": "python3"
  },
  "language_info": {
   "codemirror_mode": {
    "name": "ipython",
    "version": 3
   },
   "file_extension": ".py",
   "mimetype": "text/x-python",
   "name": "python",
   "nbconvert_exporter": "python",
   "pygments_lexer": "ipython3",
   "version": "3.8.8"
  },
  "orig_nbformat": 4
 },
 "nbformat": 4,
 "nbformat_minor": 2
}

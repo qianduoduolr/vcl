{
 "cells": [
  {
   "cell_type": "code",
   "execution_count": 7,
   "metadata": {},
   "outputs": [
    {
     "data": {
      "image/png": "[encoded data removed]",
      "text/plain": [
       "<Figure size 432x288 with 2 Axes>"
      ]
     },
     "metadata": {
      "needs_background": "light"
     },
     "output_type": "display_data"
    }
   ],
   "source": [
    "import matplotlib.ticker as ticker\n",
    "import numpy as np\n",
    "import cv2\n",
    "import torch\n",
    "import torch.nn.functional as F\n",
    "\n",
    "import mmcv\n",
    "from PIL import Image\n",
    "import matplotlib.pyplot as plt\n",
    "\n",
    "import numpy as np\n",
    "import matplotlib.pyplot as plt\n",
    "import matplotlib.cm as cm\n",
    "import matplotlib.colors as mcolors\n",
    "\n",
    "fig = plt.figure()\n",
    "ax = fig.gca()\n",
    "im = ax.imshow(np.random.random([10, 10]),cmap=plt.get_cmap('jet'))\n",
    "cb1 = plt.colorbar(im, fraction=0.03, pad=0.05)\n",
    "tick_locator = ticker.MaxNLocator(nbins=8)  # colorbar上的刻度值个数\n",
    "cb1.locator = tick_locator\n",
    "cb1.update_ticks()\n",
    "plt.show()\n",
    "\n",
    "def show_cmap(cmap, norm=None, extend=None):\n",
    "    '''展示一个colormap.'''\n",
    "    if norm is None:\n",
    "        norm = mcolors.Normalize(vmin=0, vmax=cmap.N)\n",
    "    im = cm.ScalarMappable(norm=norm, cmap=cmap)\n",
    "\n",
    "    fig, ax = plt.subplots(figsize=(6, 1))\n",
    "    fig.subplots_adjust(bottom=0.5)\n",
    "    fig.colorbar(im, cax=ax, orientation='horizontal', extend=extend)\n",
    "    plt.show()\n",
    "\n",
    "\n"
   ]
  }
 ],
 "metadata": {
  "interpreter": {
   "hash": "e7c246b6cc6cfc6db104182c221d279513df2c5a30140b74c2713c1b2d72f533"
  },
  "kernelspec": {
   "display_name": "Python 3.6.2 64-bit ('970': conda)",
   "name": "python3"
  },
  "language_info": {
   "codemirror_mode": {
    "name": "ipython",
    "version": 3
   },
   "file_extension": ".py",
   "mimetype": "text/x-python",
   "name": "python",
   "nbconvert_exporter": "python",
   "pygments_lexer": "ipython3",
   "version": "3.8.8"
  },
  "orig_nbformat": 4
 },
 "nbformat": 4,
 "nbformat_minor": 2
}

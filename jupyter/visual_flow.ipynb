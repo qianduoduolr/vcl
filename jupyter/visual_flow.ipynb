{
 "cells": [
  {
   "cell_type": "code",
   "execution_count": 14,
   "metadata": {},
   "outputs": [
    {
     "data": {
      "image/png": "[encoded data removed]",
      "text/plain": [
       "<PIL.Image.Image image mode=L size=8x8 at 0x7FB22FEEA390>"
      ]
     },
     "metadata": {},
     "output_type": "display_data"
    }
   ],
   "source": [
    "import numpy as np\n",
    "from glob import glob\n",
    "import os\n",
    "import random\n",
    "import cv2\n",
    "from PIL import Image\n",
    "\n",
    "from scipy import ndimage\n",
    "from IPython.display import display, display_markdown\n",
    "\n",
    "def motion_mag_downsample(mag, size, input_size):\n",
    "    block_size = input_size // size\n",
    "    mask = np.zeros((size,size))\n",
    "    for i in range(size):\n",
    "        for j in range(size):\n",
    "            x_start = i * block_size\n",
    "            x_end = x_start + block_size\n",
    "            y_start = j * block_size\n",
    "            y_end = y_start + block_size\n",
    "\n",
    "            tmp_block = mag[x_start:x_end, y_start:y_end]\n",
    "\n",
    "            block_mean = np.mean(tmp_block)\n",
    "            mask[i, j] = block_mean\n",
    "    return mask\n",
    "\n",
    "\n",
    "def compute_motion_boudary(flow_clip):\n",
    "    mx = np.array([[-1, 0, 1], [-1, 0, 1], [-1, 0, 1]])\n",
    "    my = np.array([[-1, -1, -1], [0, 0, 0], [1, 1, 1]])\n",
    "    dx_all = []\n",
    "    dy_all = []\n",
    "    mb_x = 0\n",
    "    mb_y = 0\n",
    "\n",
    "    for flow_img in flow_clip:\n",
    "        d_x = ndimage.convolve(flow_img, mx)\n",
    "        d_y = ndimage.convolve(flow_img, my)\n",
    "\n",
    "        dx_all.append(d_x)\n",
    "        dy_all.append(d_y)\n",
    "\n",
    "        mb_x += d_x\n",
    "        mb_y += d_y\n",
    "\n",
    "    dx_all = np.array(dx_all)\n",
    "    dy_all = np.array(dy_all)\n",
    "\n",
    "    return dx_all, dy_all, mb_x, mb_y\n",
    "\n",
    "file = '/home/lr/dataset/YouTube-VOS/2019/train_all_frames/Flows/c3be369fdb'\n",
    "flows = glob(os.path.join(file, '*.jpg'))\n",
    "\n",
    "flow = flows[random.randint(0, len(flows) - 1)]\n",
    "\n",
    "flow = cv2.imread(flow)\n",
    "flow = cv2.resize(flow, (256,256))\n",
    "\n",
    "u, v = [flow[:,:,0].astype(np.float32)], [flow[:,:,1].astype(np.float32)]\n",
    "\n",
    "_, _ , mb_x_u, mb_y_u = compute_motion_boudary(u)\n",
    "mag_u, ang = cv2.cartToPolar(mb_x_u, mb_y_u, angleInDegrees=True)\n",
    "mag_down_u = motion_mag_downsample(mag_u, 8, 256)\n",
    "\n",
    "_, _ , mb_x_v, mb_y_v = compute_motion_boudary(v)\n",
    "mag_v, ang = cv2.cartToPolar(mb_x_v, mb_y_v, angleInDegrees=True)\n",
    "mag_down_v = motion_mag_downsample(mag_v, 8, 256)\n",
    "\n",
    "mag_down_u = (mag_down_u-mag_down_u.min()) * 255 / (mag_down_u.max() - mag_down_u.min()).astype(np.uint8)\n",
    "mag_down_v = (mag_down_v-mag_down_v.min()) * 255 / (mag_down_v.max() - mag_down_v.min()).astype(np.uint8)\n",
    "\n",
    "mag = (mag_down_u + mag_down_v) // 2\n",
    "mag = Image.fromarray(mag).convert('L')\n",
    "\n",
    "\n",
    "display(mag)\n",
    "\n",
    "\n"
   ]
  }
 ],
 "metadata": {
  "interpreter": {
   "hash": "e7c246b6cc6cfc6db104182c221d279513df2c5a30140b74c2713c1b2d72f533"
  },
  "kernelspec": {
   "display_name": "Python 3.6.2 64-bit ('970': conda)",
   "name": "python3"
  },
  "language_info": {
   "codemirror_mode": {
    "name": "ipython",
    "version": 3
   },
   "file_extension": ".py",
   "mimetype": "text/x-python",
   "name": "python",
   "nbconvert_exporter": "python",
   "pygments_lexer": "ipython3",
   "version": "3.6.2"
  },
  "orig_nbformat": 4
 },
 "nbformat": 4,
 "nbformat_minor": 2
}
